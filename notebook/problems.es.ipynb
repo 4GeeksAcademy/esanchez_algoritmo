{
 "cells": [
  {
   "attachments": {},
   "cell_type": "markdown",
   "id": "27b09e13",
   "metadata": {},
   "source": [
    "# Problemas de optimización de algoritmos"
   ]
  },
  {
   "attachments": {},
   "cell_type": "markdown",
   "id": "ed05e9bf",
   "metadata": {},
   "source": [
    "## Ejercicio 1\n",
    "### Optimización de código para procesamiento de texto\n",
    "\n",
    "Se te ha entregado un código de procesamiento de texto que realiza las siguientes operaciones:\n",
    "\n",
    "1. Convierte todo el texto a minúsculas.\n",
    "2. Elimina los signos de puntuación.\n",
    "3. Cuenta la frecuencia de cada palabra.\n",
    "4. Muestra las 5 palabras mas comunes.\n",
    "\n",
    "El código funciona, pero es ineficiente y puede optimizarse. Tu tarea es identificar las áreas que pueden ser mejoradas y reescribir esas partes para hacer el código mas eficiente y legible.\n"
   ]
  },
  {
   "cell_type": "code",
   "execution_count": 1,
   "id": "8467465b",
   "metadata": {},
   "outputs": [
    {
     "name": "stdout",
     "output_type": "stream",
     "text": [
      "'the': 5 times\n",
      "'of': 3 times\n",
      "'in': 2 times\n",
      "'a': 2 times\n",
      "'she': 2 times\n"
     ]
    }
   ],
   "source": [
    "import string\n",
    "\n",
    "def process_text(text):\n",
    "    # Texto a minuscula\n",
    "    text = text.lower()\n",
    "\n",
    "    # Eliminación de puntuaciones\n",
    "    for p in string.punctuation:\n",
    "        text = text.replace(p, \"\")\n",
    "\n",
    "    # Split text into words\n",
    "    words = text.split()\n",
    "\n",
    "    # Conteo de frecuencias\n",
    "    frequencies = {}\n",
    "    for w in words:\n",
    "        if w in frequencies:\n",
    "            frequencies[w] += 1\n",
    "        else:\n",
    "            frequencies[w] = 1\n",
    "\n",
    "    sorted_frequencies = sorted(frequencies.items(), key = lambda x: x[1], reverse = True)\n",
    "\n",
    "    # Obtener las 5 palabras más comunes\n",
    "    top_5 = sorted_frequencies[:5]\n",
    "    \n",
    "    for w, frequency in top_5:\n",
    "        print(f\"'{w}': {frequency} times\")\n",
    "\n",
    "text = \"\"\"\n",
    "    In the heart of the city, Emily discovered a quaint little café, hidden away from the bustling streets. \n",
    "    The aroma of freshly baked pastries wafted through the air, drawing in passersby. As she sipped on her latte, \n",
    "    she noticed an old bookshelf filled with classics, creating a cozy atmosphere that made her lose track of time.\n",
    "\"\"\"\n",
    "process_text(text)"
   ]
  },
  {
   "cell_type": "markdown",
   "id": "29040779",
   "metadata": {},
   "source": [
    "Puntos a optimizar:\n",
    "\n",
    "1. **Eliminar los signos de puntuación**: Usar `replace`  en un ciclo puede ser ineficiente, especialmente con textos largos. Busca una formas eficiente de eliminar los signos de puntuación.\n",
    "2. **Contador de frecuencia**: El código verifica la existencia de cada palabra en el diccionario y luego actualiza su cuenta. Esto puede hacerse mas eficientemente con ciertas estructuras de datos en Python.\n",
    "3. **Ordenar y seleccionar:** Considera si hay una forma mas directa o efectiva de obtener las 5 palabras mas frecuentes sin ordenar todas las palabras.\n",
    "4. **Modularidad**: Divide el código en funciones mas pequeñas para que cada una puede realizar una tarea específica. Esto no solo optimizará el desempeño, sino también hará el código mas legible y mantenible."
   ]
  },
  {
   "cell_type": "code",
   "execution_count": 37,
   "id": "a3719914",
   "metadata": {},
   "outputs": [],
   "source": [
    "import itertools\n",
    "import pandas as pd\n",
    "from sympy import isprime\n",
    "import numpy as np\n",
    "import string\n",
    "from collections import Counter\n",
    "import math\n"
   ]
  },
  {
   "cell_type": "markdown",
   "id": "51a75065",
   "metadata": {},
   "source": [
    "# solución ejercicio 1"
   ]
  },
  {
   "cell_type": "code",
   "execution_count": null,
   "id": "88f636e3",
   "metadata": {},
   "outputs": [
    {
     "name": "stdout",
     "output_type": "stream",
     "text": [
      "the: 5\n",
      "in: 2\n",
      "of: 2\n",
      "heart: 1\n",
      "city: 1\n"
     ]
    }
   ],
   "source": [
    "def optimizacion_texto(text):\n",
    "    text = text.lower()\n",
    "    text = text.translate(str.maketrans('', '', string.punctuation))\n",
    "    palabras = text.split()\n",
    "    frecuencia = Counter(palabras)\n",
    "    comunes = frecuencia.most_common(5)\n",
    "    for palabra, veces in comunes:\n",
    "        print(f'{palabra}: {veces}')\n",
    "text = '''  In the heart of the city, Emily discovered a quaint little café, hidden away from the bustling\n",
    "            streets The aroma of freshly baked pastries wafted through the air, drawing in passersby.\n",
    "            As she sipp\n",
    "'''\n",
    "optimizacion_texto(text)\n"
   ]
  },
  {
   "cell_type": "markdown",
   "id": "7b05414f",
   "metadata": {},
   "source": [
    "# Pruebas ejercicio 1"
   ]
  },
  {
   "cell_type": "code",
   "execution_count": 4,
   "id": "082a3317",
   "metadata": {},
   "outputs": [],
   "source": [
    "palabras = text.split()\n",
    "frecuencia = Counter(palabras)\n",
    "text = '''  In the heart of the city, Emily discovered a quaint little café, hidden away from the bustling\n",
    "            streets The aroma of freshly baked pastries wafted through the air, drawing in passersby.\n",
    "            As she sipp'''"
   ]
  },
  {
   "cell_type": "code",
   "execution_count": 16,
   "id": "9ccff9ff",
   "metadata": {},
   "outputs": [
    {
     "name": "stdout",
     "output_type": "stream",
     "text": [
      "  In the heart of the city Emily discovered a quaint little café hidden away from the bustling\n",
      "            streets The aroma of freshly baked pastries wafted through the air drawing in passersby\n",
      "            As she sipp\n"
     ]
    }
   ],
   "source": [
    "def eliminar_simbolos(text): \n",
    "    #elimniamos simbolos y puntuaciones\n",
    "    no_punctuation = text.translate(str.maketrans('','', string.punctuation))\n",
    "    return no_punctuation\n",
    "texto_limpio = eliminar_simbolos(text)\n",
    "print(texto_limpio)"
   ]
  },
  {
   "cell_type": "code",
   "execution_count": 11,
   "id": "43bd2e9e",
   "metadata": {},
   "outputs": [
    {
     "name": "stdout",
     "output_type": "stream",
     "text": [
      "Counter({'the': 4, 'of': 3, 'a': 2, 'she': 2, 'her': 2, 'In': 1, 'heart': 1, 'city,': 1, 'Emily': 1, 'discovered': 1, 'quaint': 1, 'little': 1, 'café,': 1, 'hidden': 1, 'away': 1, 'from': 1, 'bustling': 1, 'streets.': 1, 'The': 1, 'aroma': 1, 'freshly': 1, 'baked': 1, 'pastries': 1, 'wafted': 1, 'through': 1, 'air,': 1, 'drawing': 1, 'in': 1, 'passersby.': 1, 'As': 1, 'sipped': 1, 'on': 1, 'latte,': 1, 'noticed': 1, 'an': 1, 'old': 1, 'bookshelf': 1, 'filled': 1, 'with': 1, 'classics,': 1, 'creating': 1, 'cozy': 1, 'atmosphere': 1, 'that': 1, 'made': 1, 'lose': 1, 'track': 1, 'time.': 1})\n"
     ]
    }
   ],
   "source": [
    "def frecuencia_palabras(text):\n",
    "    return Counter(palabras)\n",
    "contar_palabras = frecuencia_palabras(text)\n",
    "print(contar_palabras)\n"
   ]
  },
  {
   "cell_type": "code",
   "execution_count": 14,
   "id": "829bf4b3",
   "metadata": {},
   "outputs": [
    {
     "name": "stdout",
     "output_type": "stream",
     "text": [
      "[('the', 4), ('of', 3), ('a', 2), ('she', 2), ('her', 2)]\n"
     ]
    }
   ],
   "source": [
    "def palabras_comunes(text):\n",
    "    comunes = frecuencia.most_common(5)\n",
    "    return comunes\n",
    "common_palabras = palabras_comunes(text)\n",
    "print(common_palabras)"
   ]
  },
  {
   "attachments": {},
   "cell_type": "markdown",
   "id": "011996bc",
   "metadata": {},
   "source": [
    "## Ejercicio 2\n",
    "### Optimización de código para procesamiento de listas\n",
    "\n",
    "Se te ha dado el siguiente código que realiza operaciones en una lista de números para:\n",
    "\n",
    "1. Filtrar los números pares.\n",
    "2. Duplicar cada número.\n",
    "3. Sumar todos los números.\n",
    "4. Verificar si el resultado es un número primo.\n",
    "\n",
    "El código entregado logra los objetivos, pero puede ser ineficiente. Tu tarea es identificar y mejorar las partes de ese código para mejorar su eficiencia."
   ]
  },
  {
   "cell_type": "code",
   "execution_count": 27,
   "id": "783d03a0",
   "metadata": {},
   "outputs": [
    {
     "name": "stdout",
     "output_type": "stream",
     "text": [
      "Result: 60, ¿Prime? No\n"
     ]
    }
   ],
   "source": [
    "import math\n",
    "\n",
    "def is_prime(n):\n",
    "    if n <= 1:\n",
    "        return False\n",
    "    for i in range(2, int(math.sqrt(n)) + 1):\n",
    "        if n % i == 0:\n",
    "            return False\n",
    "    return True\n",
    "\n",
    "def process_list(list_):\n",
    "    filtered_list = []\n",
    "    for num in list_:\n",
    "        if num % 2 == 0:\n",
    "            filtered_list.append(num)\n",
    "    \n",
    "    duplicate_list = []\n",
    "    for num in filtered_list:\n",
    "        duplicate_list.append(num * 2)\n",
    "        \n",
    "    sum = 0\n",
    "    for num in duplicate_list:\n",
    "        sum += num\n",
    "\n",
    "    prime = is_prime(sum)\n",
    "    \n",
    "    return sum, prime\n",
    "\n",
    "list_ = [1, 2, 3, 4, 5, 6, 7, 8, 9, 10]\n",
    "result, result_prime = process_list(list_)\n",
    "print(f\"Result: {result}, ¿Prime? {'Yes' if result_prime else 'No'}\")"
   ]
  },
  {
   "cell_type": "markdown",
   "id": "128d564e",
   "metadata": {},
   "source": [
    "Puntos a optimizar:\n",
    "\n",
    "1. **Filtrar las números**: El código recorre la lista original para filtrar los números pares. Considera una forma mas eficiente de filtrar la lista.\n",
    "2. **Duplicación**: La lista es atravesada varias veces. ¿Hay alguna manera de hacer esto mas eficientemente?\n",
    "3. **Suma**: Los números en la lista se suman a traves de un bucle. Python trae incluidas unas funciones que pueden optimizar esto.\n",
    "4. **Función `is_prime`**: Aunque ésta función es relativamente eficiente, investiga si hay maneras de hacerla aun más rápida.\n",
    "5. **Modularidad**: Considera dividir el código en funciones más pequeñas, cada una enfocada en una tarea específica."
   ]
  },
  {
   "cell_type": "markdown",
   "id": "35e23cc3",
   "metadata": {},
   "source": [
    "# SOLUCIÓN EJERCICIO 2"
   ]
  },
  {
   "cell_type": "code",
   "execution_count": 36,
   "id": "fa4ba505",
   "metadata": {},
   "outputs": [
    {
     "name": "stdout",
     "output_type": "stream",
     "text": [
      "Resultado: 60 ¿Es primo? No\n"
     ]
    }
   ],
   "source": [
    "def optimizacion_codigo1(list_):\n",
    "    pares = list(itertools.filterfalse(lambda x: x % 2 != 0, list_))\n",
    "    duplicados = sum([math.prod([numero, 2]) for numero in pares])\n",
    "    es_primo = isprime(duplicados)\n",
    "    print(f\"Resultado: {duplicados} ¿Es primo? {'Si' if es_primo else 'No'}\")\n",
    "\n",
    "list_ = [1, 2, 3, 4, 5, 6, 7, 8, 9, 10]\n",
    "optimizacion_codigo1(list_)"
   ]
  },
  {
   "cell_type": "markdown",
   "id": "a594cd7d",
   "metadata": {},
   "source": [
    "# PRUEBAS EJERCICIO 2"
   ]
  },
  {
   "cell_type": "code",
   "execution_count": 28,
   "id": "f40e35d6",
   "metadata": {},
   "outputs": [],
   "source": [
    "import itertools\n",
    "list_ = [1, 2, 3, 4, 5, 6, 7, 8, 9, 10]"
   ]
  },
  {
   "cell_type": "code",
   "execution_count": 29,
   "id": "b3dde350",
   "metadata": {},
   "outputs": [
    {
     "name": "stdout",
     "output_type": "stream",
     "text": [
      "[2, 4, 6, 8, 10]\n"
     ]
    }
   ],
   "source": [
    "pares = itertools.filterfalse(lambda x: x % 2 != 0, list_)\n",
    "print(list(pares))"
   ]
  },
  {
   "cell_type": "code",
   "execution_count": 30,
   "id": "1c615dda",
   "metadata": {},
   "outputs": [
    {
     "name": "stdout",
     "output_type": "stream",
     "text": [
      "60\n"
     ]
    }
   ],
   "source": [
    "duplicados = sum([math.prod([numero,2]) for numero in list_ if numero % 2 == 0])\n",
    "print(duplicados)"
   ]
  },
  {
   "cell_type": "code",
   "execution_count": 31,
   "id": "f507ea1e",
   "metadata": {},
   "outputs": [
    {
     "name": "stdout",
     "output_type": "stream",
     "text": [
      "False\n"
     ]
    }
   ],
   "source": [
    "print(isprime(duplicados))"
   ]
  },
  {
   "cell_type": "code",
   "execution_count": 32,
   "id": "024a747a",
   "metadata": {},
   "outputs": [
    {
     "name": "stdout",
     "output_type": "stream",
     "text": [
      "60 no es primo\n"
     ]
    }
   ],
   "source": [
    "print(f\"{duplicados} {'es primo' if isprime(duplicados) else 'no es primo'}\")"
   ]
  },
  {
   "attachments": {},
   "cell_type": "markdown",
   "id": "1af70806",
   "metadata": {},
   "source": [
    "Ambos ejercicios  ayudarán a mejorar tu habilidad de optimizar el desempeño del código y te darán un mejor entendimiento de como las diferentes estructuras de datos y técnicas de programación pueden afectar la eficiencia de tu código."
   ]
  }
 ],
 "metadata": {
  "kernelspec": {
   "display_name": "Python 3",
   "language": "python",
   "name": "python3"
  },
  "language_info": {
   "codemirror_mode": {
    "name": "ipython",
    "version": 3
   },
   "file_extension": ".py",
   "mimetype": "text/x-python",
   "name": "python",
   "nbconvert_exporter": "python",
   "pygments_lexer": "ipython3",
   "version": "3.11.4"
  }
 },
 "nbformat": 4,
 "nbformat_minor": 5
}
